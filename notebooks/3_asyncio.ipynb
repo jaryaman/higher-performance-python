{
 "cells": [
  {
   "cell_type": "markdown",
   "id": "1f52dd0a",
   "metadata": {},
   "source": [
    "# Async IO\n",
    "\n",
    "Asynchronous I/O is a form of input/output processing that permits other processing to continue before the transmission has finished. It is a single-threaded, single-process design. It is a style of concurrent programming, but it is not parallelism. "
   ]
  },
  {
   "cell_type": "code",
   "execution_count": 1,
   "id": "c6b65fc0",
   "metadata": {},
   "outputs": [],
   "source": [
    "import asyncio\n",
    "import time"
   ]
  },
  {
   "cell_type": "code",
   "execution_count": 2,
   "id": "10dc236f",
   "metadata": {},
   "outputs": [],
   "source": [
    "async def count():\n",
    "    print(\"One\")\n",
    "    \n",
    "    # task tells the outer event loop that it's going to sleep. Let other work continue.\n",
    "    await asyncio.sleep(1)  \n",
    "    # This is a stand-in for any time-intensive, but non-blocking, function call.\n",
    "    \n",
    "    print(\"Two\")\n",
    "    \n",
    "async def main():\n",
    "    await asyncio.gather(count(), count(), count())\n"
   ]
  },
  {
   "cell_type": "markdown",
   "id": "c76e214a",
   "metadata": {},
   "source": [
    "If you ran this in a script, you'd run\n",
    "```\n",
    "asyncio.run(main())\n",
    "```\n",
    "which is the \"normal\" way to run `asyncio`. There is some magic going on to get this to work in ipython, because there's already a running event loop when you run ipython."
   ]
  },
  {
   "cell_type": "code",
   "execution_count": 3,
   "id": "0f079b54",
   "metadata": {},
   "outputs": [
    {
     "name": "stdout",
     "output_type": "stream",
     "text": [
      "One\n",
      "One\n",
      "One\n",
      "Two\n",
      "Two\n",
      "Two\n",
      "Executed in  1.01s\n"
     ]
    }
   ],
   "source": [
    "s = time.perf_counter()\n",
    "await main()\n",
    "elapsed = time.perf_counter() - s\n",
    "print(f\"Executed in {elapsed: .2f}s\")"
   ]
  },
  {
   "cell_type": "markdown",
   "id": "e4cd0fd3",
   "metadata": {},
   "source": [
    "Contrast this to synchronous code:"
   ]
  },
  {
   "cell_type": "code",
   "execution_count": 4,
   "id": "87b53806",
   "metadata": {},
   "outputs": [
    {
     "name": "stdout",
     "output_type": "stream",
     "text": [
      "One\n",
      "Two\n",
      "One\n",
      "Two\n",
      "One\n",
      "Two\n",
      "Executed in  3.05s\n"
     ]
    }
   ],
   "source": [
    "def count():\n",
    "    print(\"One\")\n",
    "    time.sleep(1)\n",
    "    print(\"Two\")\n",
    "\n",
    "def main():\n",
    "    for _ in range(3):\n",
    "        count()\n",
    "\n",
    "s = time.perf_counter()\n",
    "main()\n",
    "elapsed = time.perf_counter() - s\n",
    "print(f\"Executed in {elapsed: .2f}s\")"
   ]
  },
  {
   "cell_type": "markdown",
   "id": "a31f307f",
   "metadata": {},
   "source": [
    "## Concurrently make random numbers"
   ]
  },
  {
   "cell_type": "code",
   "execution_count": 5,
   "id": "23cbb55f",
   "metadata": {},
   "outputs": [],
   "source": [
    "import random"
   ]
  },
  {
   "cell_type": "code",
   "execution_count": 6,
   "id": "a98df0bd",
   "metadata": {},
   "outputs": [],
   "source": [
    "# ANSI colors\n",
    "c = (\n",
    "    \"\\033[0m\",   # End of color\n",
    "    \"\\033[36m\",  # Cyan\n",
    "    \"\\033[91m\",  # Red\n",
    "    \"\\033[35m\",  # Magenta\n",
    ")"
   ]
  },
  {
   "cell_type": "markdown",
   "id": "f9ce0baf",
   "metadata": {},
   "source": [
    "Keep making random numbers until the number is above some threshold (with sleep inbetween)"
   ]
  },
  {
   "cell_type": "code",
   "execution_count": 7,
   "id": "6f14640d",
   "metadata": {},
   "outputs": [],
   "source": [
    "async def makerandom(idx: int, threshold: int = 6):\n",
    "    async_color = c[idx + 1]\n",
    "    print(async_color+f\"Initiated makerandom({idx})\")\n",
    "    i = random.randint(0, 10)\n",
    "    while i <= threshold:\n",
    "        print(async_color+f\"makerandom({idx}) == {i} too low; retrying.\")\n",
    "        await asyncio.sleep(idx + 1)  # mimics an IO-bound process with an uncertain wait time\n",
    "        i = random.randint(0, 10)\n",
    "    print(async_color+f\"--> Finished: makerandom({idx}) == {i}\"+c[0])\n",
    "    return i"
   ]
  },
  {
   "cell_type": "code",
   "execution_count": 8,
   "id": "e25b837f",
   "metadata": {},
   "outputs": [],
   "source": [
    "async def main():\n",
    "    # Concurrently run makerandom() across 3 different inputs\n",
    "    res = await asyncio.gather(*(makerandom(i, 10 - i - 1) for i in range(3)))\n",
    "    return res"
   ]
  },
  {
   "cell_type": "code",
   "execution_count": 9,
   "id": "863e34fa",
   "metadata": {},
   "outputs": [],
   "source": [
    "random.seed(444)"
   ]
  },
  {
   "cell_type": "code",
   "execution_count": 10,
   "id": "2bac6244",
   "metadata": {},
   "outputs": [
    {
     "name": "stdout",
     "output_type": "stream",
     "text": [
      "\u001b[36mInitiated makerandom(0)\n",
      "\u001b[36mmakerandom(0) == 4 too low; retrying.\n",
      "\u001b[91mInitiated makerandom(1)\n",
      "\u001b[91mmakerandom(1) == 4 too low; retrying.\n",
      "\u001b[35mInitiated makerandom(2)\n",
      "\u001b[35mmakerandom(2) == 0 too low; retrying.\n",
      "\u001b[36mmakerandom(0) == 4 too low; retrying.\n",
      "\u001b[91mmakerandom(1) == 7 too low; retrying.\n",
      "\u001b[36mmakerandom(0) == 4 too low; retrying.\n",
      "\u001b[35mmakerandom(2) == 4 too low; retrying.\n",
      "\u001b[36mmakerandom(0) == 8 too low; retrying.\n",
      "\u001b[91m--> Finished: makerandom(1) == 10\u001b[0m\n",
      "\u001b[36mmakerandom(0) == 7 too low; retrying.\n",
      "\u001b[36mmakerandom(0) == 8 too low; retrying.\n",
      "\u001b[35mmakerandom(2) == 4 too low; retrying.\n",
      "\u001b[36mmakerandom(0) == 7 too low; retrying.\n",
      "\u001b[36mmakerandom(0) == 1 too low; retrying.\n",
      "\u001b[36mmakerandom(0) == 6 too low; retrying.\n",
      "\u001b[35m--> Finished: makerandom(2) == 9\u001b[0m\n",
      "\u001b[36mmakerandom(0) == 3 too low; retrying.\n",
      "\u001b[36mmakerandom(0) == 9 too low; retrying.\n",
      "\u001b[36mmakerandom(0) == 7 too low; retrying.\n",
      "\u001b[36m--> Finished: makerandom(0) == 10\u001b[0m\n",
      "\n",
      "r1: 10, r2: 10, r3: 9\n"
     ]
    }
   ],
   "source": [
    "r1, r2, r3 = await main()\n",
    "print()\n",
    "print(f\"r1: {r1}, r2: {r2}, r3: {r3}\")"
   ]
  },
  {
   "cell_type": "markdown",
   "id": "af7a4963",
   "metadata": {},
   "source": [
    "## Async IO vs threading"
   ]
  },
  {
   "cell_type": "markdown",
   "id": "931d984a",
   "metadata": {},
   "source": [
    "- Threading scales less well than async IO because threads are a system resource with finite availability. Creating thousands of threads will fail on many machines, whereas creating thousands of async IO tasks is completely feasible.\n",
    "- Async IO shines for IO bound tasks which would be otherwise dominated by blocking IO-bound wait-time, such as\n",
    "    - Network IO\n",
    "    - Read/write operations with a \"fire-and-forget\" style, without worrying about a lock for whatever you're reading/writing to\n",
    "- The main disadvantage of async IO is that `await` only supports a specific set of objects that define a specific set of methods. \n"
   ]
  },
  {
   "cell_type": "markdown",
   "id": "b41e8aa5",
   "metadata": {},
   "source": [
    "## Mixing multiprocessing and async IO"
   ]
  },
  {
   "cell_type": "markdown",
   "id": "79361ab0",
   "metadata": {},
   "source": [
    "This is a tricky business because a child process will inherit the event loop of the parent. Some plumbing is required to get async IO to play nice with multiprocessing. The `aiomultiprocess` library handles this for you, see `scripts/asyncio_multiprocessing.py` for an example. (I haven't figured out how to get this to run in a notebook yet)"
   ]
  }
 ],
 "metadata": {
  "kernelspec": {
   "display_name": "Python 3 (ipykernel)",
   "language": "python",
   "name": "python3"
  },
  "language_info": {
   "codemirror_mode": {
    "name": "ipython",
    "version": 3
   },
   "file_extension": ".py",
   "mimetype": "text/x-python",
   "name": "python",
   "nbconvert_exporter": "python",
   "pygments_lexer": "ipython3",
   "version": "3.10.6"
  }
 },
 "nbformat": 4,
 "nbformat_minor": 5
}
