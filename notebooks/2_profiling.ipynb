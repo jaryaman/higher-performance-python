{
 "cells": [
  {
   "cell_type": "markdown",
   "id": "1c124a24",
   "metadata": {},
   "source": [
    "# Profiling"
   ]
  },
  {
   "cell_type": "markdown",
   "id": "83ad0dca",
   "metadata": {},
   "source": [
    "One of the main things I learnt Ian's course is that:\n",
    "- Profiling is the only way to get the truth for what runs fast and what runs slow. Your intuitions can often be very wrong.\n",
    "- Profiling is pretty easy, if you know what tools to use!"
   ]
  },
  {
   "cell_type": "code",
   "execution_count": 1,
   "id": "73b09b78",
   "metadata": {},
   "outputs": [],
   "source": [
    "%load_ext autoreload\n",
    "%autoreload 2"
   ]
  },
  {
   "cell_type": "code",
   "execution_count": 6,
   "id": "f67627a3",
   "metadata": {},
   "outputs": [],
   "source": [
    "import numpy as np\n",
    "from hpp.demos import get_areas, monte_carlo_pi"
   ]
  },
  {
   "cell_type": "code",
   "execution_count": 10,
   "id": "312cbd0e",
   "metadata": {},
   "outputs": [],
   "source": [
    "radii = np.random.uniform(0, 1, size=1_000)"
   ]
  },
  {
   "cell_type": "markdown",
   "id": "5b19792c",
   "metadata": {},
   "source": [
    "This will profile the time taken for each function with a `-f` flag"
   ]
  },
  {
   "cell_type": "code",
   "execution_count": 12,
   "id": "c429c287",
   "metadata": {},
   "outputs": [
    {
     "name": "stdout",
     "output_type": "stream",
     "text": [
      "The line_profiler extension is already loaded. To reload it, use:\n",
      "  %reload_ext line_profiler\n"
     ]
    }
   ],
   "source": [
    "%load_ext line_profiler\n",
    "%lprun -f get_areas -f monte_carlo_pi  get_areas(radii, 100)"
   ]
  },
  {
   "cell_type": "markdown",
   "id": "6af37966",
   "metadata": {},
   "source": [
    "Output:\n",
    "\n",
    "```\n",
    "Timer unit: 1e-07 s\n",
    "\n",
    "Total time: 0.246178 s\n",
    "File: c:\\users\\jarya\\dropbox\\projects\\python\\higher-performance-python\\hpp\\demos.py\n",
    "Function: monte_carlo_pi at line 6\n",
    "\n",
    "Line #      Hits         Time  Per Hit   % Time  Line Contents\n",
    "==============================================================\n",
    "     6                                           def monte_carlo_pi(n_samples):\n",
    "     7      1000       4319.0      4.3      0.2      acc = 0\n",
    "     8    101000     370311.0      3.7     15.0      for i in range(n_samples):\n",
    "     9    100000     481281.0      4.8     19.6          x = random.random()\n",
    "    10    100000     450167.0      4.5     18.3          y = random.random()\n",
    "    11    100000     794443.0      7.9     32.3          if (x ** 2 + y ** 2) < 1.0:\n",
    "    12     78658     355722.0      4.5     14.4              acc += 1\n",
    "    13      1000       5540.0      5.5      0.2      return 4.0 * acc / n_samples\n",
    "\n",
    "Total time: 0.428766 s\n",
    "File: c:\\users\\jarya\\dropbox\\projects\\python\\higher-performance-python\\hpp\\demos.py\n",
    "Function: get_areas at line 16\n",
    "\n",
    "Line #      Hits         Time  Per Hit   % Time  Line Contents\n",
    "==============================================================\n",
    "    16                                           def get_areas(radii, n_samples):\n",
    "    17         1        375.0    375.0      0.0      a = np.zeros_like(radii)\n",
    "    18      1001       4947.0      4.9      0.1      for i, r in enumerate(radii):\n",
    "    19      1000    4272154.0   4272.2     99.6          pi = monte_carlo_pi(n_samples)\n",
    "    20      1000      10185.0     10.2      0.2          a[i] = pi * r ** 2\n",
    "```"
   ]
  },
  {
   "cell_type": "markdown",
   "id": "f50d63ea",
   "metadata": {},
   "source": [
    "We can also do memory profiling"
   ]
  },
  {
   "cell_type": "code",
   "execution_count": 13,
   "id": "17e08655",
   "metadata": {},
   "outputs": [
    {
     "name": "stdout",
     "output_type": "stream",
     "text": [
      "\n"
     ]
    }
   ],
   "source": [
    "%load_ext memory_profiler\n",
    "%mprun -f get_areas -f monte_carlo_pi  get_areas(radii, 100)"
   ]
  },
  {
   "cell_type": "markdown",
   "id": "86076c08",
   "metadata": {},
   "source": [
    "Output:\n",
    "\n",
    "```\n",
    "Filename: c:\\users\\jarya\\dropbox\\projects\\python\\higher-performance-python\\hpp\\demos.py\n",
    "\n",
    "Line #    Mem usage    Increment  Occurrences   Line Contents\n",
    "=============================================================\n",
    "    16     98.6 MiB     98.6 MiB           1   def get_areas(radii, n_samples):\n",
    "    17     98.6 MiB      0.0 MiB           1       a = np.zeros_like(radii)\n",
    "    18     98.6 MiB      0.0 MiB        1001       for i, r in enumerate(radii):\n",
    "    19     98.6 MiB  98648.4 MiB        1000           pi = monte_carlo_pi(n_samples)\n",
    "    20     98.6 MiB      0.0 MiB        1000           a[i] = pi * r ** 2\n",
    "\n",
    "\n",
    "Filename: c:\\users\\jarya\\dropbox\\projects\\python\\higher-performance-python\\hpp\\demos.py\n",
    "\n",
    "Line #    Mem usage    Increment  Occurrences   Line Contents\n",
    "=============================================================\n",
    "     6     98.6 MiB  98648.4 MiB        1000   def monte_carlo_pi(n_samples):\n",
    "     7     98.6 MiB      0.0 MiB        1000       acc = 0\n",
    "     8     98.6 MiB      0.0 MiB      101000       for i in range(n_samples):\n",
    "     9     98.6 MiB      0.0 MiB      100000           x = random.random()\n",
    "    10     98.6 MiB      0.0 MiB      100000           y = random.random()\n",
    "    11     98.6 MiB      0.0 MiB      100000           if (x ** 2 + y ** 2) < 1.0:\n",
    "    12     98.6 MiB      0.0 MiB       78302               acc += 1\n",
    "    13     98.6 MiB      0.0 MiB        1000       return 4.0 * acc / n_samples\n",
    "```"
   ]
  },
  {
   "cell_type": "markdown",
   "id": "538763dd",
   "metadata": {},
   "source": [
    "## Viztracer\n",
    "\n",
    "Viztracer lets you inspect the stack as your code runs, so you can see which parts of your code are taking the most time."
   ]
  },
  {
   "cell_type": "code",
   "execution_count": 22,
   "id": "b81c536b",
   "metadata": {},
   "outputs": [],
   "source": [
    "import pandas as pd\n",
    "from tqdm.auto import tqdm"
   ]
  },
  {
   "cell_type": "code",
   "execution_count": 18,
   "id": "c1936e65",
   "metadata": {},
   "outputs": [],
   "source": [
    "df = pd.read_csv(\n",
    "    \"https://gist.githubusercontent.com/ritchie46/cac6b337ea52281aa23c049250a4ff03/raw/89a957ff3919d90e6ef2d34235e6bf22304f3366/pokemon.csv\"\n",
    ")"
   ]
  },
  {
   "cell_type": "code",
   "execution_count": 14,
   "id": "a85adc89",
   "metadata": {},
   "outputs": [],
   "source": [
    "from viztracer import VizTracer"
   ]
  },
  {
   "cell_type": "code",
   "execution_count": 15,
   "id": "7c9e4b2a",
   "metadata": {},
   "outputs": [],
   "source": [
    "%load_ext viztracer"
   ]
  },
  {
   "cell_type": "code",
   "execution_count": 27,
   "id": "878727f9",
   "metadata": {},
   "outputs": [
    {
     "data": {
      "application/vnd.jupyter.widget-view+json": {
       "model_id": "1794f741ac9048fe8126718eec2b56de",
       "version_major": 2,
       "version_minor": 0
      },
      "text/plain": [
       "Button(description='VizTracer Report', style=ButtonStyle())"
      ]
     },
     "metadata": {},
     "output_type": "display_data"
    }
   ],
   "source": [
    "%%viztracer\n",
    "mean_stats_per_type = df[['Type 1', 'HP', 'Attack', 'Defense', 'Speed']].groupby('Type 1').mean()"
   ]
  },
  {
   "cell_type": "markdown",
   "id": "95c580ce",
   "metadata": {},
   "source": [
    "which gives you a beautiful report, letting you see some of the underlying complexities of how Pandas works!"
   ]
  },
  {
   "cell_type": "markdown",
   "id": "63db2c84",
   "metadata": {},
   "source": [
    " <img src=\"../images/viztrace.jpg\" width=\"1000\"> "
   ]
  },
  {
   "cell_type": "markdown",
   "id": "11b3aeee",
   "metadata": {},
   "source": [
    "The width of a bar denotes the amount of time spent in a particular operation. This can give you hints on how to optimize your code."
   ]
  },
  {
   "cell_type": "code",
   "execution_count": 33,
   "id": "fd370bfe",
   "metadata": {},
   "outputs": [],
   "source": [
    "def geom_mean(row):    \n",
    "    return np.power(np.prod(row), 1./row.shape[0])"
   ]
  },
  {
   "cell_type": "code",
   "execution_count": 37,
   "id": "ef8bd902",
   "metadata": {},
   "outputs": [
    {
     "data": {
      "application/vnd.jupyter.widget-view+json": {
       "model_id": "4dac09e766f947efa4dc9cc26e4644aa",
       "version_major": 2,
       "version_minor": 0
      },
      "text/plain": [
       "Button(description='VizTracer Report', style=ButtonStyle())"
      ]
     },
     "metadata": {},
     "output_type": "display_data"
    }
   ],
   "source": [
    "%%viztracer\n",
    "df['geom_mean'] = df[['Attack', 'Defense', 'Speed']].apply(geom_mean, axis=1)"
   ]
  },
  {
   "cell_type": "markdown",
   "id": "f11a42a1",
   "metadata": {},
   "source": [
    " <img src=\"../images/apply.jpg\" width=\"1000\"> "
   ]
  },
  {
   "cell_type": "code",
   "execution_count": 35,
   "id": "772a3922",
   "metadata": {},
   "outputs": [],
   "source": [
    "from numba import njit\n",
    "\n",
    "@njit\n",
    "def geom_mean_numba(row):    \n",
    "    return np.power(np.prod(row), 1./row.shape[0])\n",
    "\n",
    "# this will both test, and compile, our numba function\n",
    "np.testing.assert_allclose(geom_mean(np.array([1.,2.,3])), geom_mean_numba(np.array([1.,2.,3])))  "
   ]
  },
  {
   "cell_type": "code",
   "execution_count": 38,
   "id": "e6136458",
   "metadata": {},
   "outputs": [
    {
     "data": {
      "application/vnd.jupyter.widget-view+json": {
       "model_id": "2f8fbffc526e4db88902050a8e5bc60a",
       "version_major": 2,
       "version_minor": 0
      },
      "text/plain": [
       "Button(description='VizTracer Report', style=ButtonStyle())"
      ]
     },
     "metadata": {},
     "output_type": "display_data"
    }
   ],
   "source": [
    "%%viztracer\n",
    "df['geom_mean'] = df[['Attack', 'Defense', 'Speed']].apply(geom_mean_numba, axis=1, raw=True)"
   ]
  },
  {
   "cell_type": "markdown",
   "id": "44e02f69",
   "metadata": {},
   "source": [
    " <img src=\"../images/apply-numba.jpg\" width=\"1000\"> "
   ]
  }
 ],
 "metadata": {
  "kernelspec": {
   "display_name": "Python 3 (ipykernel)",
   "language": "python",
   "name": "python3"
  },
  "language_info": {
   "codemirror_mode": {
    "name": "ipython",
    "version": 3
   },
   "file_extension": ".py",
   "mimetype": "text/x-python",
   "name": "python",
   "nbconvert_exporter": "python",
   "pygments_lexer": "ipython3",
   "version": "3.10.6"
  }
 },
 "nbformat": 4,
 "nbformat_minor": 5
}
