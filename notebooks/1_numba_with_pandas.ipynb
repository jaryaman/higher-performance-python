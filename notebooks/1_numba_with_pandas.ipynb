{
 "cells": [
  {
   "cell_type": "markdown",
   "id": "c341edfd",
   "metadata": {},
   "source": [
    "# Numba with pandas"
   ]
  },
  {
   "cell_type": "code",
   "execution_count": 1,
   "id": "3dc72e50",
   "metadata": {},
   "outputs": [],
   "source": [
    "import pandas as pd\n",
    "import numpy as np\n",
    "from numba import njit"
   ]
  },
  {
   "cell_type": "code",
   "execution_count": 2,
   "id": "e743bcdb",
   "metadata": {},
   "outputs": [],
   "source": [
    "df = pd.read_csv(\n",
    "    \"https://gist.githubusercontent.com/ritchie46/cac6b337ea52281aa23c049250a4ff03/raw/89a957ff3919d90e6ef2d34235e6bf22304f3366/pokemon.csv\"\n",
    ")"
   ]
  },
  {
   "cell_type": "code",
   "execution_count": 3,
   "id": "028bd671",
   "metadata": {},
   "outputs": [
    {
     "data": {
      "text/html": [
       "<div>\n",
       "<style scoped>\n",
       "    .dataframe tbody tr th:only-of-type {\n",
       "        vertical-align: middle;\n",
       "    }\n",
       "\n",
       "    .dataframe tbody tr th {\n",
       "        vertical-align: top;\n",
       "    }\n",
       "\n",
       "    .dataframe thead th {\n",
       "        text-align: right;\n",
       "    }\n",
       "</style>\n",
       "<table border=\"1\" class=\"dataframe\">\n",
       "  <thead>\n",
       "    <tr style=\"text-align: right;\">\n",
       "      <th></th>\n",
       "      <th>#</th>\n",
       "      <th>Name</th>\n",
       "      <th>Type 1</th>\n",
       "      <th>Type 2</th>\n",
       "      <th>Total</th>\n",
       "      <th>HP</th>\n",
       "      <th>Attack</th>\n",
       "      <th>Defense</th>\n",
       "      <th>Sp. Atk</th>\n",
       "      <th>Sp. Def</th>\n",
       "      <th>Speed</th>\n",
       "      <th>Generation</th>\n",
       "      <th>Legendary</th>\n",
       "    </tr>\n",
       "  </thead>\n",
       "  <tbody>\n",
       "    <tr>\n",
       "      <th>0</th>\n",
       "      <td>1</td>\n",
       "      <td>Bulbasaur</td>\n",
       "      <td>Grass</td>\n",
       "      <td>Poison</td>\n",
       "      <td>318</td>\n",
       "      <td>45</td>\n",
       "      <td>49</td>\n",
       "      <td>49</td>\n",
       "      <td>65</td>\n",
       "      <td>65</td>\n",
       "      <td>45</td>\n",
       "      <td>1</td>\n",
       "      <td>False</td>\n",
       "    </tr>\n",
       "    <tr>\n",
       "      <th>1</th>\n",
       "      <td>2</td>\n",
       "      <td>Ivysaur</td>\n",
       "      <td>Grass</td>\n",
       "      <td>Poison</td>\n",
       "      <td>405</td>\n",
       "      <td>60</td>\n",
       "      <td>62</td>\n",
       "      <td>63</td>\n",
       "      <td>80</td>\n",
       "      <td>80</td>\n",
       "      <td>60</td>\n",
       "      <td>1</td>\n",
       "      <td>False</td>\n",
       "    </tr>\n",
       "    <tr>\n",
       "      <th>2</th>\n",
       "      <td>3</td>\n",
       "      <td>Venusaur</td>\n",
       "      <td>Grass</td>\n",
       "      <td>Poison</td>\n",
       "      <td>525</td>\n",
       "      <td>80</td>\n",
       "      <td>82</td>\n",
       "      <td>83</td>\n",
       "      <td>100</td>\n",
       "      <td>100</td>\n",
       "      <td>80</td>\n",
       "      <td>1</td>\n",
       "      <td>False</td>\n",
       "    </tr>\n",
       "    <tr>\n",
       "      <th>3</th>\n",
       "      <td>3</td>\n",
       "      <td>VenusaurMega Venusaur</td>\n",
       "      <td>Grass</td>\n",
       "      <td>Poison</td>\n",
       "      <td>625</td>\n",
       "      <td>80</td>\n",
       "      <td>100</td>\n",
       "      <td>123</td>\n",
       "      <td>122</td>\n",
       "      <td>120</td>\n",
       "      <td>80</td>\n",
       "      <td>1</td>\n",
       "      <td>False</td>\n",
       "    </tr>\n",
       "    <tr>\n",
       "      <th>4</th>\n",
       "      <td>4</td>\n",
       "      <td>Charmander</td>\n",
       "      <td>Fire</td>\n",
       "      <td>NaN</td>\n",
       "      <td>309</td>\n",
       "      <td>39</td>\n",
       "      <td>52</td>\n",
       "      <td>43</td>\n",
       "      <td>60</td>\n",
       "      <td>50</td>\n",
       "      <td>65</td>\n",
       "      <td>1</td>\n",
       "      <td>False</td>\n",
       "    </tr>\n",
       "  </tbody>\n",
       "</table>\n",
       "</div>"
      ],
      "text/plain": [
       "   #                   Name Type 1  Type 2  Total  HP  Attack  Defense  \\\n",
       "0  1              Bulbasaur  Grass  Poison    318  45      49       49   \n",
       "1  2                Ivysaur  Grass  Poison    405  60      62       63   \n",
       "2  3               Venusaur  Grass  Poison    525  80      82       83   \n",
       "3  3  VenusaurMega Venusaur  Grass  Poison    625  80     100      123   \n",
       "4  4             Charmander   Fire     NaN    309  39      52       43   \n",
       "\n",
       "   Sp. Atk  Sp. Def  Speed  Generation  Legendary  \n",
       "0       65       65     45           1      False  \n",
       "1       80       80     60           1      False  \n",
       "2      100      100     80           1      False  \n",
       "3      122      120     80           1      False  \n",
       "4       60       50     65           1      False  "
      ]
     },
     "execution_count": 3,
     "metadata": {},
     "output_type": "execute_result"
    }
   ],
   "source": [
    "df.head()"
   ]
  },
  {
   "cell_type": "markdown",
   "id": "d496073e",
   "metadata": {},
   "source": [
    "# I like using `apply` but it's slow"
   ]
  },
  {
   "cell_type": "markdown",
   "id": "11934379",
   "metadata": {},
   "source": [
    "Making pandas code run fast usually means writing your code with vectorization. But vectorized code is (sometimes/often) harder to read. I like using `pd.DataFrame.apply` because it allows me to break out single well-named function for what I want to do on my dataframe, hiding implementation details from the user. The problem is that `apply` allows you to write arbitrary python code, and so even if you pass in a well-optimized numpy function, it's still going to run more slowly than writing your code in a vectorized way.\n",
    "\n",
    "But Ian has taught me some excellent tricks to allow me to have my readability cake, and also quickly eat it!"
   ]
  },
  {
   "cell_type": "markdown",
   "id": "6a571ec4",
   "metadata": {},
   "source": [
    "Let's say I have a hypothesis that the geometric mean of attack/defense/speed is the best way to find strong pokemon..."
   ]
  },
  {
   "cell_type": "code",
   "execution_count": 4,
   "id": "bd245f0b",
   "metadata": {},
   "outputs": [],
   "source": [
    "def geom_mean(row):    \n",
    "    return np.power(np.prod(row), 1./row.shape[0])"
   ]
  },
  {
   "cell_type": "code",
   "execution_count": 5,
   "id": "e504c072",
   "metadata": {},
   "outputs": [
    {
     "name": "stdout",
     "output_type": "stream",
     "text": [
      "8.61 ms ± 96.6 µs per loop (mean ± std. dev. of 7 runs, 100 loops each)\n"
     ]
    }
   ],
   "source": [
    "%timeit df['geom_mean'] = df[['Attack', 'Defense', 'Speed']].apply(geom_mean, axis=1)"
   ]
  },
  {
   "cell_type": "code",
   "execution_count": 6,
   "id": "dcdb8012",
   "metadata": {},
   "outputs": [
    {
     "name": "stdout",
     "output_type": "stream",
     "text": [
      "1.91 ms ± 11.1 µs per loop (mean ± std. dev. of 7 runs, 1,000 loops each)\n"
     ]
    }
   ],
   "source": [
    "%timeit df['geom_mean'] = df[['Attack', 'Defense', 'Speed']].apply(geom_mean, axis=1, raw=True)"
   ]
  },
  {
   "cell_type": "code",
   "execution_count": 7,
   "id": "91e1024b",
   "metadata": {},
   "outputs": [],
   "source": [
    "@njit\n",
    "def geom_mean_numba(row):    \n",
    "    return np.power(np.prod(row), 1./row.shape[0])\n",
    "\n",
    "# this will both test, and compile, our numba function\n",
    "np.testing.assert_allclose(geom_mean(np.array([1.,2.,3])), geom_mean_numba(np.array([1.,2.,3])))  "
   ]
  },
  {
   "cell_type": "code",
   "execution_count": 8,
   "id": "586813aa",
   "metadata": {},
   "outputs": [
    {
     "name": "stdout",
     "output_type": "stream",
     "text": [
      "915 µs ± 16 µs per loop (mean ± std. dev. of 7 runs, 1,000 loops each)\n"
     ]
    }
   ],
   "source": [
    "%timeit df['geom_mean'] = df[['Attack', 'Defense', 'Speed']].apply(geom_mean_numba, axis=1, raw=True)"
   ]
  },
  {
   "cell_type": "markdown",
   "id": "af2bdfa6",
   "metadata": {},
   "source": [
    "About a x10 speed-up by going from a naive implementation to using `raw=True` + numba!"
   ]
  },
  {
   "cell_type": "markdown",
   "id": "265d44b1",
   "metadata": {},
   "source": [
    "How does it compare to doing this the usual way..."
   ]
  },
  {
   "cell_type": "code",
   "execution_count": 9,
   "id": "08cfd8d6",
   "metadata": {},
   "outputs": [
    {
     "name": "stdout",
     "output_type": "stream",
     "text": [
      "383 µs ± 6.94 µs per loop (mean ± std. dev. of 7 runs, 1,000 loops each)\n"
     ]
    }
   ],
   "source": [
    "%timeit df['geom_mean'] = (df.Attack * df.Defense * df.Speed)**(1./3.)"
   ]
  },
  {
   "cell_type": "markdown",
   "id": "25e001a6",
   "metadata": {},
   "source": [
    "Vectorization in this case is still faster, but `apply` implemented in a smarter way still makes savings."
   ]
  },
  {
   "cell_type": "code",
   "execution_count": 10,
   "id": "0a317925",
   "metadata": {},
   "outputs": [],
   "source": [
    "@njit(parallel=True)\n",
    "def geom_mean_numba_parallel(row):    \n",
    "    return np.power(np.prod(row), 1./row.shape[0])\n",
    "\n",
    "# this will both test, and compile, our numba function\n",
    "np.testing.assert_allclose(geom_mean(np.array([1.,2.,3])), geom_mean_numba_parallel(np.array([1.,2.,3])))  "
   ]
  },
  {
   "cell_type": "code",
   "execution_count": 11,
   "id": "9cc1d6db",
   "metadata": {},
   "outputs": [
    {
     "name": "stdout",
     "output_type": "stream",
     "text": [
      "4.97 ms ± 418 µs per loop (mean ± std. dev. of 7 runs, 1 loop each)\n"
     ]
    }
   ],
   "source": [
    "%timeit df['geom_mean'] = df[['Attack', 'Defense', 'Speed']].apply(geom_mean_numba_parallel, axis=1, raw=True)"
   ]
  },
  {
   "cell_type": "markdown",
   "id": "c0631f17",
   "metadata": {},
   "source": [
    "Parallelization introduces a lot of overhead in this case, and probably wouldn't pay off until you get to much larger matrices."
   ]
  }
 ],
 "metadata": {
  "kernelspec": {
   "display_name": "Python 3 (ipykernel)",
   "language": "python",
   "name": "python3"
  },
  "language_info": {
   "codemirror_mode": {
    "name": "ipython",
    "version": 3
   },
   "file_extension": ".py",
   "mimetype": "text/x-python",
   "name": "python",
   "nbconvert_exporter": "python",
   "pygments_lexer": "ipython3",
   "version": "3.10.6"
  }
 },
 "nbformat": 4,
 "nbformat_minor": 5
}
